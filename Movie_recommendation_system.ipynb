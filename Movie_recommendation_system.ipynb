{
  "cells": [
    {
      "cell_type": "markdown",
      "metadata": {
        "colab_type": "text",
        "id": "view-in-github"
      },
      "source": [
        "<a href=\"https://colab.research.google.com/github/nano-bot01/Movie-Recommendation-System-for-Hollywoord-movies/blob/main/Movie_recommendation_system.ipynb\" target=\"_parent\"><img src=\"https://colab.research.google.com/assets/colab-badge.svg\" alt=\"Open In Colab\"/></a>"
      ]
    },
    {
      "cell_type": "markdown",
      "metadata": {
        "id": "6DhEq34e2TdA"
      },
      "source": [
        "# Movie Recommendation system "
      ]
    },
    {
      "cell_type": "markdown",
      "metadata": {
        "id": "4keJXUOc2Oz5"
      },
      "source": [
        "## Importing the dependencies"
      ]
    },
    {
      "cell_type": "code",
      "execution_count": 2,
      "metadata": {
        "id": "olpNUCpczjak"
      },
      "outputs": [],
      "source": [
        "import numpy as np\n",
        "import pandas as pd\n",
        "import difflib\n",
        "from scipy.sparse import find\n",
        "\n",
        "from sklearn.feature_extraction.text import TfidfVectorizer \n",
        "# for transforming the textual data to numerical feature vector to find present similarity values \n",
        "from sklearn.metrics.pairwise import cosine_similarity"
      ]
    },
    {
      "cell_type": "markdown",
      "metadata": {
        "id": "ykYvxcJp3bc_"
      },
      "source": [
        "## Dataset Loading and Preprocessing\n"
      ]
    },
    {
      "cell_type": "code",
      "execution_count": 3,
      "metadata": {
        "id": "UvrfSw_b3auQ"
      },
      "outputs": [],
      "source": [
        "# loading the dataset\n",
        "\n",
        "dataset = pd.read_json('.\\data.json')"
      ]
    },
    {
      "cell_type": "code",
      "execution_count": 4,
      "metadata": {
        "colab": {
          "base_uri": "https://localhost:8080/",
          "height": 837
        },
        "id": "nEIbtmfX3arR",
        "outputId": "f8f39d2d-b61c-41ca-ae67-df7ece2580be"
      },
      "outputs": [
        {
          "data": {
            "text/html": [
              "<div>\n",
              "<style scoped>\n",
              "    .dataframe tbody tr th:only-of-type {\n",
              "        vertical-align: middle;\n",
              "    }\n",
              "\n",
              "    .dataframe tbody tr th {\n",
              "        vertical-align: top;\n",
              "    }\n",
              "\n",
              "    .dataframe thead th {\n",
              "        text-align: right;\n",
              "    }\n",
              "</style>\n",
              "<table border=\"1\" class=\"dataframe\">\n",
              "  <thead>\n",
              "    <tr style=\"text-align: right;\">\n",
              "      <th></th>\n",
              "      <th>genre</th>\n",
              "      <th>related-genre</th>\n",
              "      <th>id</th>\n",
              "      <th>tag</th>\n",
              "      <th>image</th>\n",
              "      <th>source</th>\n",
              "      <th>index</th>\n",
              "      <th>name</th>\n",
              "      <th>maturity</th>\n",
              "      <th>duration</th>\n",
              "      <th>synopsis</th>\n",
              "      <th>year</th>\n",
              "      <th>spoilers</th>\n",
              "    </tr>\n",
              "  </thead>\n",
              "  <tbody>\n",
              "    <tr>\n",
              "      <th>0</th>\n",
              "      <td>Action</td>\n",
              "      <td>[Hindi-Language Movies, Bollywood Movies, Dram...</td>\n",
              "      <td>81595543</td>\n",
              "      <td>Action Movies</td>\n",
              "      <td>https://occ-0-3663-3662.1.nflxso.net/dnm/api/v...</td>\n",
              "      <td>https://www.netflix.com/in/title/81595543</td>\n",
              "      <td>38</td>\n",
              "      <td>Shehzada</td>\n",
              "      <td>U/A 13+</td>\n",
              "      <td>2h 22m</td>\n",
              "      <td>After realizing he was switched at birth by a ...</td>\n",
              "      <td>2023</td>\n",
              "      <td>\\nRating 8: Valmiki and Randeep start their ca...</td>\n",
              "    </tr>\n",
              "    <tr>\n",
              "      <th>1</th>\n",
              "      <td>Action</td>\n",
              "      <td>[Crime Movies, Action &amp; Adventure]</td>\n",
              "      <td>81672761</td>\n",
              "      <td>Action Movies</td>\n",
              "      <td>https://occ-0-3663-3662.1.nflxso.net/dnm/api/v...</td>\n",
              "      <td>https://www.netflix.com/in/title/81672761</td>\n",
              "      <td>39</td>\n",
              "      <td>Thunivu</td>\n",
              "      <td>U/A 16+</td>\n",
              "      <td>2h 23m</td>\n",
              "      <td>A major bank heist takes an unnerving turn whe...</td>\n",
              "      <td>2023</td>\n",
              "      <td>\\nRating 8: Radha, a dreaded gangster, and his...</td>\n",
              "    </tr>\n",
              "    <tr>\n",
              "      <th>2</th>\n",
              "      <td>Action</td>\n",
              "      <td>[Hindi-Language Movies, Bollywood Movies, Acti...</td>\n",
              "      <td>81633804</td>\n",
              "      <td>Action Movies</td>\n",
              "      <td>https://occ-0-3663-3662.1.nflxso.net/dnm/api/v...</td>\n",
              "      <td>https://www.netflix.com/in/title/81633804</td>\n",
              "      <td>40</td>\n",
              "      <td>Mission Majnu</td>\n",
              "      <td>U/A 16+</td>\n",
              "      <td>2h 9m</td>\n",
              "      <td>In the 1970s, an undercover Indian spy takes o...</td>\n",
              "      <td>2023</td>\n",
              "      <td>\\nRating 8: In 1971, Amandeep \"Aman\" Singh IPS...</td>\n",
              "    </tr>\n",
              "    <tr>\n",
              "      <th>3</th>\n",
              "      <td>Action</td>\n",
              "      <td>[Movies Based on Books, Action &amp; Adventure, US...</td>\n",
              "      <td>80230399</td>\n",
              "      <td>Action Movies</td>\n",
              "      <td>https://occ-0-3663-3662.1.nflxso.net/dnm/api/v...</td>\n",
              "      <td>https://www.netflix.com/in/title/80230399</td>\n",
              "      <td>41</td>\n",
              "      <td>Extraction</td>\n",
              "      <td>A</td>\n",
              "      <td>1h 58m</td>\n",
              "      <td>A hardened gun-for-hire's latest mission becom...</td>\n",
              "      <td>2020</td>\n",
              "      <td>\\nRating 3: Ovi Mahajan – son of incarcerated ...</td>\n",
              "    </tr>\n",
              "    <tr>\n",
              "      <th>4</th>\n",
              "      <td>Action</td>\n",
              "      <td>[Action &amp; Adventure]</td>\n",
              "      <td>81508719</td>\n",
              "      <td>Action Movies</td>\n",
              "      <td>https://occ-0-3663-3662.1.nflxso.net/dnm/api/v...</td>\n",
              "      <td>https://www.netflix.com/in/title/81508719</td>\n",
              "      <td>42</td>\n",
              "      <td>Raw</td>\n",
              "      <td>U/A 16+</td>\n",
              "      <td>2h 36m</td>\n",
              "      <td>A jaded former intelligence agent is pulled ba...</td>\n",
              "      <td>2022</td>\n",
              "      <td>\\nRating 3: Lifelong vegetarian Justine begins...</td>\n",
              "    </tr>\n",
              "  </tbody>\n",
              "</table>\n",
              "</div>"
            ],
            "text/plain": [
              "    genre                                      related-genre        id  \\\n",
              "0  Action  [Hindi-Language Movies, Bollywood Movies, Dram...  81595543   \n",
              "1  Action                 [Crime Movies, Action & Adventure]  81672761   \n",
              "2  Action  [Hindi-Language Movies, Bollywood Movies, Acti...  81633804   \n",
              "3  Action  [Movies Based on Books, Action & Adventure, US...  80230399   \n",
              "4  Action                               [Action & Adventure]  81508719   \n",
              "\n",
              "             tag                                              image  \\\n",
              "0  Action Movies  https://occ-0-3663-3662.1.nflxso.net/dnm/api/v...   \n",
              "1  Action Movies  https://occ-0-3663-3662.1.nflxso.net/dnm/api/v...   \n",
              "2  Action Movies  https://occ-0-3663-3662.1.nflxso.net/dnm/api/v...   \n",
              "3  Action Movies  https://occ-0-3663-3662.1.nflxso.net/dnm/api/v...   \n",
              "4  Action Movies  https://occ-0-3663-3662.1.nflxso.net/dnm/api/v...   \n",
              "\n",
              "                                      source  index           name  maturity  \\\n",
              "0  https://www.netflix.com/in/title/81595543     38       Shehzada  U/A 13+    \n",
              "1  https://www.netflix.com/in/title/81672761     39        Thunivu  U/A 16+    \n",
              "2  https://www.netflix.com/in/title/81633804     40  Mission Majnu  U/A 16+    \n",
              "3  https://www.netflix.com/in/title/80230399     41     Extraction        A    \n",
              "4  https://www.netflix.com/in/title/81508719     42            Raw  U/A 16+    \n",
              "\n",
              "  duration                                           synopsis  year  \\\n",
              "0   2h 22m  After realizing he was switched at birth by a ...  2023   \n",
              "1   2h 23m  A major bank heist takes an unnerving turn whe...  2023   \n",
              "2    2h 9m  In the 1970s, an undercover Indian spy takes o...  2023   \n",
              "3   1h 58m  A hardened gun-for-hire's latest mission becom...  2020   \n",
              "4   2h 36m  A jaded former intelligence agent is pulled ba...  2022   \n",
              "\n",
              "                                            spoilers  \n",
              "0  \\nRating 8: Valmiki and Randeep start their ca...  \n",
              "1  \\nRating 8: Radha, a dreaded gangster, and his...  \n",
              "2  \\nRating 8: In 1971, Amandeep \"Aman\" Singh IPS...  \n",
              "3  \\nRating 3: Ovi Mahajan – son of incarcerated ...  \n",
              "4  \\nRating 3: Lifelong vegetarian Justine begins...  "
            ]
          },
          "execution_count": 4,
          "metadata": {},
          "output_type": "execute_result"
        }
      ],
      "source": [
        "dataset.head()"
      ]
    },
    {
      "cell_type": "code",
      "execution_count": 5,
      "metadata": {
        "colab": {
          "base_uri": "https://localhost:8080/",
          "height": 733
        },
        "id": "d6pftABQ3al5",
        "outputId": "7d35eadd-a29d-412c-e45c-073dc1f5713f"
      },
      "outputs": [
        {
          "data": {
            "text/html": [
              "<div>\n",
              "<style scoped>\n",
              "    .dataframe tbody tr th:only-of-type {\n",
              "        vertical-align: middle;\n",
              "    }\n",
              "\n",
              "    .dataframe tbody tr th {\n",
              "        vertical-align: top;\n",
              "    }\n",
              "\n",
              "    .dataframe thead th {\n",
              "        text-align: right;\n",
              "    }\n",
              "</style>\n",
              "<table border=\"1\" class=\"dataframe\">\n",
              "  <thead>\n",
              "    <tr style=\"text-align: right;\">\n",
              "      <th></th>\n",
              "      <th>genre</th>\n",
              "      <th>related-genre</th>\n",
              "      <th>id</th>\n",
              "      <th>tag</th>\n",
              "      <th>image</th>\n",
              "      <th>source</th>\n",
              "      <th>index</th>\n",
              "      <th>name</th>\n",
              "      <th>maturity</th>\n",
              "      <th>duration</th>\n",
              "      <th>synopsis</th>\n",
              "      <th>year</th>\n",
              "      <th>spoilers</th>\n",
              "    </tr>\n",
              "  </thead>\n",
              "  <tbody>\n",
              "    <tr>\n",
              "      <th>35</th>\n",
              "      <td>Drama</td>\n",
              "      <td>[Family Features, Dramas, Movies Based on Book...</td>\n",
              "      <td>80993105</td>\n",
              "      <td>Action Movies</td>\n",
              "      <td>data:image/gif;base64,R0lGODlhAQABAAAAACH5BAEK...</td>\n",
              "      <td>https://www.netflix.com/in/title/80993105</td>\n",
              "      <td>73</td>\n",
              "      <td>Mowgli: Legend of the Jungle</td>\n",
              "      <td>U/A 13+</td>\n",
              "      <td>1h 44m</td>\n",
              "      <td>An orphaned boy raised by animals in the jungl...</td>\n",
              "      <td>2018</td>\n",
              "      <td>\\nRating 7: In the jungles of India, the gigan...</td>\n",
              "    </tr>\n",
              "    <tr>\n",
              "      <th>36</th>\n",
              "      <td>Action</td>\n",
              "      <td>[Crime Movies, Comedies, Movies Based on Books...</td>\n",
              "      <td>81511779</td>\n",
              "      <td>Action Movies</td>\n",
              "      <td>data:image/gif;base64,R0lGODlhAQABAAAAACH5BAEK...</td>\n",
              "      <td>https://www.netflix.com/in/title/81511779</td>\n",
              "      <td>74</td>\n",
              "      <td>Bullet Train</td>\n",
              "      <td>A</td>\n",
              "      <td>2h 6m</td>\n",
              "      <td>Five assassins board a Japanese bullet train b...</td>\n",
              "      <td>2022</td>\n",
              "      <td>\\nRating 3: Yuichi Kimura \"The Father\" boards ...</td>\n",
              "    </tr>\n",
              "    <tr>\n",
              "      <th>37</th>\n",
              "      <td>Drama</td>\n",
              "      <td>[Dramas, Movies Based on Real Life, Action &amp; A...</td>\n",
              "      <td>81242575</td>\n",
              "      <td>Action Movies</td>\n",
              "      <td>data:image/gif;base64,R0lGODlhAQABAAAAACH5BAEK...</td>\n",
              "      <td>https://www.netflix.com/in/title/81242575</td>\n",
              "      <td>75</td>\n",
              "      <td>Major</td>\n",
              "      <td>U/A 16+</td>\n",
              "      <td>2h 25m</td>\n",
              "      <td>This biopic follows the life of Indian Army of...</td>\n",
              "      <td>2022</td>\n",
              "      <td>\\nRating 10: The movie starts with Sandeep Unn...</td>\n",
              "    </tr>\n",
              "    <tr>\n",
              "      <th>38</th>\n",
              "      <td>Action</td>\n",
              "      <td>[Action &amp; Adventure, US Movies]</td>\n",
              "      <td>70079583</td>\n",
              "      <td>Action Movies</td>\n",
              "      <td>data:image/gif;base64,R0lGODlhAQABAAAAACH5BAEK...</td>\n",
              "      <td>https://www.netflix.com/in/title/70079583</td>\n",
              "      <td>76</td>\n",
              "      <td>The Dark Knight</td>\n",
              "      <td>U/A 16+</td>\n",
              "      <td>2h 32m</td>\n",
              "      <td>Batman, Lieutenant Gordon and District Attorne...</td>\n",
              "      <td>2008</td>\n",
              "      <td>\\nRating 3: A gang of masked criminals robs a ...</td>\n",
              "    </tr>\n",
              "    <tr>\n",
              "      <th>39</th>\n",
              "      <td>Fantasy</td>\n",
              "      <td>[Family Features, Movies Based on Books, Actio...</td>\n",
              "      <td>70178621</td>\n",
              "      <td>Action Movies</td>\n",
              "      <td>data:image/gif;base64,R0lGODlhAQABAAAAACH5BAEK...</td>\n",
              "      <td>https://www.netflix.com/in/title/70178621</td>\n",
              "      <td>77</td>\n",
              "      <td>Journey 2: The Mysterious Island</td>\n",
              "      <td>U/A 13+</td>\n",
              "      <td>1h 34m</td>\n",
              "      <td>When a distress signal pinpoints his grandfath...</td>\n",
              "      <td>2012</td>\n",
              "      <td>\\nRating 10: Four years after his adventure in...</td>\n",
              "    </tr>\n",
              "  </tbody>\n",
              "</table>\n",
              "</div>"
            ],
            "text/plain": [
              "      genre                                      related-genre        id  \\\n",
              "35    Drama  [Family Features, Dramas, Movies Based on Book...  80993105   \n",
              "36   Action  [Crime Movies, Comedies, Movies Based on Books...  81511779   \n",
              "37    Drama  [Dramas, Movies Based on Real Life, Action & A...  81242575   \n",
              "38   Action                    [Action & Adventure, US Movies]  70079583   \n",
              "39  Fantasy  [Family Features, Movies Based on Books, Actio...  70178621   \n",
              "\n",
              "              tag                                              image  \\\n",
              "35  Action Movies  data:image/gif;base64,R0lGODlhAQABAAAAACH5BAEK...   \n",
              "36  Action Movies  data:image/gif;base64,R0lGODlhAQABAAAAACH5BAEK...   \n",
              "37  Action Movies  data:image/gif;base64,R0lGODlhAQABAAAAACH5BAEK...   \n",
              "38  Action Movies  data:image/gif;base64,R0lGODlhAQABAAAAACH5BAEK...   \n",
              "39  Action Movies  data:image/gif;base64,R0lGODlhAQABAAAAACH5BAEK...   \n",
              "\n",
              "                                       source  index  \\\n",
              "35  https://www.netflix.com/in/title/80993105     73   \n",
              "36  https://www.netflix.com/in/title/81511779     74   \n",
              "37  https://www.netflix.com/in/title/81242575     75   \n",
              "38  https://www.netflix.com/in/title/70079583     76   \n",
              "39  https://www.netflix.com/in/title/70178621     77   \n",
              "\n",
              "                                name  maturity duration  \\\n",
              "35      Mowgli: Legend of the Jungle  U/A 13+    1h 44m   \n",
              "36                      Bullet Train        A     2h 6m   \n",
              "37                             Major  U/A 16+    2h 25m   \n",
              "38                   The Dark Knight  U/A 16+    2h 32m   \n",
              "39  Journey 2: The Mysterious Island  U/A 13+    1h 34m   \n",
              "\n",
              "                                             synopsis  year  \\\n",
              "35  An orphaned boy raised by animals in the jungl...  2018   \n",
              "36  Five assassins board a Japanese bullet train b...  2022   \n",
              "37  This biopic follows the life of Indian Army of...  2022   \n",
              "38  Batman, Lieutenant Gordon and District Attorne...  2008   \n",
              "39  When a distress signal pinpoints his grandfath...  2012   \n",
              "\n",
              "                                             spoilers  \n",
              "35  \\nRating 7: In the jungles of India, the gigan...  \n",
              "36  \\nRating 3: Yuichi Kimura \"The Father\" boards ...  \n",
              "37  \\nRating 10: The movie starts with Sandeep Unn...  \n",
              "38  \\nRating 3: A gang of masked criminals robs a ...  \n",
              "39  \\nRating 10: Four years after his adventure in...  "
            ]
          },
          "execution_count": 5,
          "metadata": {},
          "output_type": "execute_result"
        }
      ],
      "source": [
        "dataset.tail()"
      ]
    },
    {
      "cell_type": "code",
      "execution_count": 6,
      "metadata": {
        "colab": {
          "base_uri": "https://localhost:8080/"
        },
        "id": "Vrd2I78X3ajU",
        "outputId": "c50e6910-9245-4eed-92a6-6ca53cd5392f"
      },
      "outputs": [
        {
          "data": {
            "text/plain": [
              "Index(['genre', 'related-genre', 'id', 'tag', 'image', 'source', 'index',\n",
              "       'name', 'maturity', 'duration', 'synopsis', 'year', 'spoilers'],\n",
              "      dtype='object')"
            ]
          },
          "execution_count": 6,
          "metadata": {},
          "output_type": "execute_result"
        }
      ],
      "source": [
        "# columns in dataset\n",
        "\n",
        "dataset.columns"
      ]
    },
    {
      "cell_type": "code",
      "execution_count": 7,
      "metadata": {
        "colab": {
          "base_uri": "https://localhost:8080/"
        },
        "id": "zt7g-pN13ag-",
        "outputId": "2f4e784e-fb99-4d42-bc99-ee1d442a0273"
      },
      "outputs": [
        {
          "data": {
            "text/plain": [
              "(40, 13)"
            ]
          },
          "execution_count": 7,
          "metadata": {},
          "output_type": "execute_result"
        }
      ],
      "source": [
        "# shape of dataset frame\n",
        "\n",
        "dataset.shape"
      ]
    },
    {
      "cell_type": "code",
      "execution_count": 8,
      "metadata": {
        "colab": {
          "base_uri": "https://localhost:8080/"
        },
        "id": "rgetpbb-3aeN",
        "outputId": "017058a0-c502-4a20-c820-446f5e4b3d21"
      },
      "outputs": [
        {
          "name": "stdout",
          "output_type": "stream",
          "text": [
            "<class 'pandas.core.frame.DataFrame'>\n",
            "RangeIndex: 40 entries, 0 to 39\n",
            "Data columns (total 13 columns):\n",
            " #   Column         Non-Null Count  Dtype \n",
            "---  ------         --------------  ----- \n",
            " 0   genre          40 non-null     object\n",
            " 1   related-genre  40 non-null     object\n",
            " 2   id             40 non-null     int64 \n",
            " 3   tag            40 non-null     object\n",
            " 4   image          40 non-null     object\n",
            " 5   source         40 non-null     object\n",
            " 6   index          40 non-null     int64 \n",
            " 7   name           40 non-null     object\n",
            " 8   maturity       40 non-null     object\n",
            " 9   duration       40 non-null     object\n",
            " 10  synopsis       40 non-null     object\n",
            " 11  year           40 non-null     int64 \n",
            " 12  spoilers       40 non-null     object\n",
            "dtypes: int64(3), object(10)\n",
            "memory usage: 4.2+ KB\n"
          ]
        }
      ],
      "source": [
        "# information about dataset\n",
        "\n",
        "dataset.info()"
      ]
    },
    {
      "cell_type": "code",
      "execution_count": 78,
      "metadata": {
        "colab": {
          "base_uri": "https://localhost:8080/"
        },
        "id": "pXQ17s833abq",
        "outputId": "4c31e4f4-d67f-44d6-a41f-9bae73608f92"
      },
      "outputs": [
        {
          "data": {
            "text/plain": [
              "id               0\n",
              "tag              0\n",
              "image            0\n",
              "source           0\n",
              "name             0\n",
              "genre            0\n",
              "maturity         0\n",
              "duration         0\n",
              "synopsis         0\n",
              "related-genre    0\n",
              "plot             0\n",
              "dtype: int64"
            ]
          },
          "execution_count": 78,
          "metadata": {},
          "output_type": "execute_result"
        }
      ],
      "source": [
        "# checking for null values in dataset\n",
        "\n",
        "dataset.isnull().sum()"
      ]
    },
    {
      "cell_type": "code",
      "execution_count": 79,
      "metadata": {
        "colab": {
          "base_uri": "https://localhost:8080/"
        },
        "id": "qc35vjwMBx1T",
        "outputId": "4ee853f6-9931-4350-e775-ad4bc7327eda"
      },
      "outputs": [
        {
          "data": {
            "text/plain": [
              "0"
            ]
          },
          "execution_count": 79,
          "metadata": {},
          "output_type": "execute_result"
        }
      ],
      "source": [
        "# Total count of null values\n",
        "\n",
        "dataset.isnull().sum().sum()"
      ]
    },
    {
      "cell_type": "code",
      "execution_count": null,
      "metadata": {},
      "outputs": [],
      "source": []
    },
    {
      "cell_type": "code",
      "execution_count": 80,
      "metadata": {
        "colab": {
          "base_uri": "https://localhost:8080/"
        },
        "id": "8aZdFqpeUNqR",
        "outputId": "97d51c90-2af3-49c0-fa30-eb46923aa033"
      },
      "outputs": [
        {
          "name": "stdout",
          "output_type": "stream",
          "text": [
            "0                            time trap\n",
            "1    spider-man: into the spider-verse\n",
            "2                                 lucy\n",
            "3                    godzilla vs. kong\n",
            "4                johnny english reborn\n",
            "Name: name, dtype: object\n"
          ]
        }
      ],
      "source": [
        "# changing the title of movies to lowercase \n",
        "\n",
        "dataset['name'] = dataset['name'].str.lower()\n",
        "print(dataset['name'].head())"
      ]
    },
    {
      "cell_type": "code",
      "execution_count": 81,
      "metadata": {
        "colab": {
          "base_uri": "https://localhost:8080/"
        },
        "id": "FA4gxLgfB9XB",
        "outputId": "44171b9d-f03c-464b-c8ec-dbf9fbd4e1fd"
      },
      "outputs": [
        {
          "name": "stdout",
          "output_type": "stream",
          "text": [
            "['tag', 'maturity', 'synopsis', 'duration', 'related-genre']\n"
          ]
        }
      ],
      "source": [
        "selected_features = ['tag', 'maturity', 'synopsis','duration','related-genre']\n",
        "print(selected_features)"
      ]
    },
    {
      "cell_type": "code",
      "execution_count": 82,
      "metadata": {
        "id": "FGzmdoZOCssG"
      },
      "outputs": [],
      "source": [
        "# replacing the null values with null string\n",
        "\n",
        "for features in selected_features :\n",
        "  dataset[features] = dataset[features].fillna('')"
      ]
    },
    {
      "cell_type": "markdown",
      "metadata": {
        "id": "FxQRkKM7DPki"
      },
      "source": [
        "### Combining the selected features "
      ]
    },
    {
      "cell_type": "code",
      "execution_count": 83,
      "metadata": {
        "id": "COo1f8T7D25d"
      },
      "outputs": [
        {
          "ename": "KeyError",
          "evalue": "'duartion'",
          "output_type": "error",
          "traceback": [
            "\u001b[1;31m---------------------------------------------------------------------------\u001b[0m",
            "\u001b[1;31mKeyError\u001b[0m                                  Traceback (most recent call last)",
            "File \u001b[1;32mc:\\Users\\Ayush Jain\\AppData\\Local\\Programs\\Python\\Python311\\Lib\\site-packages\\pandas\\core\\indexes\\base.py:3803\u001b[0m, in \u001b[0;36mIndex.get_loc\u001b[1;34m(self, key, method, tolerance)\u001b[0m\n\u001b[0;32m   3802\u001b[0m \u001b[39mtry\u001b[39;00m:\n\u001b[1;32m-> 3803\u001b[0m     \u001b[39mreturn\u001b[39;00m \u001b[39mself\u001b[39;49m\u001b[39m.\u001b[39;49m_engine\u001b[39m.\u001b[39;49mget_loc(casted_key)\n\u001b[0;32m   3804\u001b[0m \u001b[39mexcept\u001b[39;00m \u001b[39mKeyError\u001b[39;00m \u001b[39mas\u001b[39;00m err:\n",
            "File \u001b[1;32mc:\\Users\\Ayush Jain\\AppData\\Local\\Programs\\Python\\Python311\\Lib\\site-packages\\pandas\\_libs\\index.pyx:138\u001b[0m, in \u001b[0;36mpandas._libs.index.IndexEngine.get_loc\u001b[1;34m()\u001b[0m\n",
            "File \u001b[1;32mc:\\Users\\Ayush Jain\\AppData\\Local\\Programs\\Python\\Python311\\Lib\\site-packages\\pandas\\_libs\\index.pyx:165\u001b[0m, in \u001b[0;36mpandas._libs.index.IndexEngine.get_loc\u001b[1;34m()\u001b[0m\n",
            "File \u001b[1;32mpandas\\_libs\\hashtable_class_helper.pxi:5745\u001b[0m, in \u001b[0;36mpandas._libs.hashtable.PyObjectHashTable.get_item\u001b[1;34m()\u001b[0m\n",
            "File \u001b[1;32mpandas\\_libs\\hashtable_class_helper.pxi:5753\u001b[0m, in \u001b[0;36mpandas._libs.hashtable.PyObjectHashTable.get_item\u001b[1;34m()\u001b[0m\n",
            "\u001b[1;31mKeyError\u001b[0m: 'duartion'",
            "\nThe above exception was the direct cause of the following exception:\n",
            "\u001b[1;31mKeyError\u001b[0m                                  Traceback (most recent call last)",
            "Cell \u001b[1;32mIn[83], line 1\u001b[0m\n\u001b[1;32m----> 1\u001b[0m dataset[\u001b[39m'\u001b[39m\u001b[39mduration\u001b[39m\u001b[39m'\u001b[39m] \u001b[39m=\u001b[39m dataset[\u001b[39m'\u001b[39;49m\u001b[39mduartion\u001b[39;49m\u001b[39m'\u001b[39;49m]\u001b[39m.\u001b[39mastype(\u001b[39mstr\u001b[39m)\n",
            "File \u001b[1;32mc:\\Users\\Ayush Jain\\AppData\\Local\\Programs\\Python\\Python311\\Lib\\site-packages\\pandas\\core\\frame.py:3805\u001b[0m, in \u001b[0;36mDataFrame.__getitem__\u001b[1;34m(self, key)\u001b[0m\n\u001b[0;32m   3803\u001b[0m \u001b[39mif\u001b[39;00m \u001b[39mself\u001b[39m\u001b[39m.\u001b[39mcolumns\u001b[39m.\u001b[39mnlevels \u001b[39m>\u001b[39m \u001b[39m1\u001b[39m:\n\u001b[0;32m   3804\u001b[0m     \u001b[39mreturn\u001b[39;00m \u001b[39mself\u001b[39m\u001b[39m.\u001b[39m_getitem_multilevel(key)\n\u001b[1;32m-> 3805\u001b[0m indexer \u001b[39m=\u001b[39m \u001b[39mself\u001b[39;49m\u001b[39m.\u001b[39;49mcolumns\u001b[39m.\u001b[39;49mget_loc(key)\n\u001b[0;32m   3806\u001b[0m \u001b[39mif\u001b[39;00m is_integer(indexer):\n\u001b[0;32m   3807\u001b[0m     indexer \u001b[39m=\u001b[39m [indexer]\n",
            "File \u001b[1;32mc:\\Users\\Ayush Jain\\AppData\\Local\\Programs\\Python\\Python311\\Lib\\site-packages\\pandas\\core\\indexes\\base.py:3805\u001b[0m, in \u001b[0;36mIndex.get_loc\u001b[1;34m(self, key, method, tolerance)\u001b[0m\n\u001b[0;32m   3803\u001b[0m     \u001b[39mreturn\u001b[39;00m \u001b[39mself\u001b[39m\u001b[39m.\u001b[39m_engine\u001b[39m.\u001b[39mget_loc(casted_key)\n\u001b[0;32m   3804\u001b[0m \u001b[39mexcept\u001b[39;00m \u001b[39mKeyError\u001b[39;00m \u001b[39mas\u001b[39;00m err:\n\u001b[1;32m-> 3805\u001b[0m     \u001b[39mraise\u001b[39;00m \u001b[39mKeyError\u001b[39;00m(key) \u001b[39mfrom\u001b[39;00m \u001b[39merr\u001b[39;00m\n\u001b[0;32m   3806\u001b[0m \u001b[39mexcept\u001b[39;00m \u001b[39mTypeError\u001b[39;00m:\n\u001b[0;32m   3807\u001b[0m     \u001b[39m# If we have a listlike key, _check_indexing_error will raise\u001b[39;00m\n\u001b[0;32m   3808\u001b[0m     \u001b[39m#  InvalidIndexError. Otherwise we fall through and re-raise\u001b[39;00m\n\u001b[0;32m   3809\u001b[0m     \u001b[39m#  the TypeError.\u001b[39;00m\n\u001b[0;32m   3810\u001b[0m     \u001b[39mself\u001b[39m\u001b[39m.\u001b[39m_check_indexing_error(key)\n",
            "\u001b[1;31mKeyError\u001b[0m: 'duartion'"
          ]
        }
      ],
      "source": [
        "dataset['duration'] = dataset['duartion'].astype(str)"
      ]
    },
    {
      "cell_type": "code",
      "execution_count": 84,
      "metadata": {},
      "outputs": [
        {
          "data": {
            "text/plain": [
              "[['Sci-Fi Movies', 'US Movies', 'Action & Adventure'],\n",
              " ['US Movies', 'Action & Adventure', 'Comedies'],\n",
              " ['Sci-Fi Movies', 'Action & Adventure'],\n",
              " ['Sci-Fi Movies', 'US Movies', 'Action & Adventure'],\n",
              " ['Spy Movies', 'Family Features', 'Action & Adventure', 'Comedies'],\n",
              " ['Crime Movies', 'Action & Adventure'],\n",
              " ['US Movies', 'Action & Adventure'],\n",
              " ['Family Features',\n",
              "  'US Movies',\n",
              "  'Teen Movies',\n",
              "  'Movies Based on Books',\n",
              "  'Action & Adventure',\n",
              "  'Comedies'],\n",
              " ['Family Features',\n",
              "  'US Movies',\n",
              "  'Movies Based on Books',\n",
              "  'Action & Adventure'],\n",
              " ['Sci-Fi Movies', 'US Movies', 'Action & Adventure'],\n",
              " ['US Movies', 'Action & Adventure'],\n",
              " ['Hindi-Language Movies',\n",
              "  'Bollywood Movies',\n",
              "  'Crime Movies',\n",
              "  'Action & Adventure',\n",
              "  'Dramas'],\n",
              " ['Sci-Fi Movies', 'Family Features', 'US Movies', 'Action & Adventure'],\n",
              " ['Hindi-Language Movies',\n",
              "  'Bollywood Movies',\n",
              "  'Crime Movies',\n",
              "  'Action & Adventure'],\n",
              " ['Romantic Comedies',\n",
              "  'Hindi-Language Movies',\n",
              "  'Bollywood Movies',\n",
              "  'Action & Adventure',\n",
              "  'Comedies',\n",
              "  'Romantic Movies'],\n",
              " ['Hindi-Language Movies',\n",
              "  'Bollywood Movies',\n",
              "  'Action & Adventure',\n",
              "  'Dramas',\n",
              "  'Sports Movies'],\n",
              " ['Sci-Fi Movies', 'US Movies', 'Action & Adventure'],\n",
              " ['Action & Adventure', 'Dramas'],\n",
              " ['Sci-Fi Movies', 'US Movies', 'Action & Adventure'],\n",
              " ['Family Features',\n",
              "  'US Movies',\n",
              "  'Movies Based on Books',\n",
              "  'Action & Adventure',\n",
              "  'Comedies'],\n",
              " ['US Movies', 'Action & Adventure'],\n",
              " ['Martial Arts Movies',\n",
              "  'US Movies',\n",
              "  'Crime Movies',\n",
              "  'Action & Adventure',\n",
              "  'Comedies'],\n",
              " ['Hindi-Language Movies',\n",
              "  'Bollywood Movies',\n",
              "  'Crime Movies',\n",
              "  'Action & Adventure'],\n",
              " ['Spy Movies',\n",
              "  'Hindi-Language Movies',\n",
              "  'Bollywood Movies',\n",
              "  'Action & Adventure'],\n",
              " ['US Movies',\n",
              "  'Movies Based on Books',\n",
              "  'Crime Movies',\n",
              "  'Action & Adventure',\n",
              "  'Comedies'],\n",
              " ['Movies Based on Real Life',\n",
              "  'Hindi-Language Movies',\n",
              "  'Action & Adventure',\n",
              "  'Dramas'],\n",
              " ['US Movies', 'Crime Movies', 'Action & Adventure', 'Comedies'],\n",
              " ['Hindi-Language Movies',\n",
              "  'Bollywood Movies',\n",
              "  'Action & Adventure',\n",
              "  'Dramas',\n",
              "  'Romantic Movies'],\n",
              " ['US Movies', 'Movies Based on Books', 'Action & Adventure'],\n",
              " ['Crime Movies', 'Action & Adventure', 'Dramas'],\n",
              " ['Hindi-Language Movies', 'Action & Adventure', 'Dramas'],\n",
              " ['Action & Adventure', 'Comedies'],\n",
              " ['Hindi-Language Movies', 'Action & Adventure', 'Dramas'],\n",
              " ['Sci-Fi Movies', 'US Movies', 'Movies Based on Books', 'Action & Adventure'],\n",
              " ['Action & Adventure'],\n",
              " ['US Movies', 'Action & Adventure'],\n",
              " ['Sci-Fi Movies', 'US Movies', 'Action & Adventure'],\n",
              " ['Sci-Fi Movies', 'US Movies', 'Action & Adventure'],\n",
              " ['Hindi-Language Movies',\n",
              "  'Bollywood Movies',\n",
              "  'Crime Movies',\n",
              "  'Action & Adventure'],\n",
              " ['Sci-Fi Movies', 'US Movies', 'Movies Based on Books', 'Action & Adventure']]"
            ]
          },
          "execution_count": 84,
          "metadata": {},
          "output_type": "execute_result"
        }
      ],
      "source": [
        "list(dataset['related-genre'])"
      ]
    },
    {
      "cell_type": "code",
      "execution_count": 85,
      "metadata": {
        "id": "kHmTDCe0DIh7"
      },
      "outputs": [],
      "source": [
        "combined_features = dataset['genre']+''+dataset['maturity']+''+dataset['synopsis']+''+''+dataset['duration']+''"
      ]
    },
    {
      "cell_type": "code",
      "execution_count": 86,
      "metadata": {
        "colab": {
          "base_uri": "https://localhost:8080/"
        },
        "id": "rfbQ8_QrDIgw",
        "outputId": "c9d01652-7e64-4ec0-a8c2-060597692c94"
      },
      "outputs": [
        {
          "data": {
            "text/plain": [
              "0    Sci-Fi MoviesU/A 13+ To find their missing pro...\n",
              "1    US MoviesU/A 13+ After being bitten by a radio...\n",
              "2    Sci-Fi MoviesA When a young American in Taiwan...\n",
              "3    Sci-Fi MoviesU/A 13+ An ancient rivalry pits t...\n",
              "4    ComediesU/A 13+ Bumbling spy Johnny English sh...\n",
              "dtype: object"
            ]
          },
          "execution_count": 86,
          "metadata": {},
          "output_type": "execute_result"
        }
      ],
      "source": [
        "combined_features.head()"
      ]
    },
    {
      "cell_type": "code",
      "execution_count": 87,
      "metadata": {
        "colab": {
          "base_uri": "https://localhost:8080/"
        },
        "id": "C_1bIaB_DIex",
        "outputId": "f90e08ca-260d-4e9e-ebbb-bacb279dcd5a"
      },
      "outputs": [
        {
          "name": "stdout",
          "output_type": "stream",
          "text": [
            "0     Sci-Fi MoviesU/A 13+ To find their missing pro...\n",
            "1     US MoviesU/A 13+ After being bitten by a radio...\n",
            "2     Sci-Fi MoviesA When a young American in Taiwan...\n",
            "3     Sci-Fi MoviesU/A 13+ An ancient rivalry pits t...\n",
            "4     ComediesU/A 13+ Bumbling spy Johnny English sh...\n",
            "5     Crime MoviesA A former agent with a troubled p...\n",
            "6     US MoviesA King Leonidas of Sparta leads 300 p...\n",
            "7     Movies Based on BooksU/A 13+ Four high school ...\n",
            "8     Movies Based on BooksU/A 13+ When a distress s...\n",
            "9     Sci-Fi MoviesU/A 16+ When the world's defenses...\n",
            "10    US MoviesU/A 16+ When an American archaeology ...\n",
            "11    Bollywood MoviesA After street smart kid Raees...\n",
            "12    Sci-Fi MoviesU/A 13+ When his loved ones are p...\n",
            "13    Bollywood MoviesU/A 16+ A fearless, faithful (...\n",
            "14    Bollywood MoviesU/A 13+ What could have been a...\n",
            "15    Bollywood MoviesU/A 16+ After a troubled past ...\n",
            "16    Sci-Fi MoviesU/A 16+ When a theme park's newes...\n",
            "17    DramasA A fearless warrior on a perilous missi...\n",
            "18    Sci-Fi MoviesU/A 13+ After Optimus Prime takes...\n",
            "19    Movies Based on BooksU/A 13+ When Spencer goes...\n",
            "20    US MoviesU/A 16+ Street-smart treasure hunter ...\n",
            "21    Martial Arts MoviesU/A 16+ When a Hong Kong in...\n",
            "22    Bollywood MoviesU/A 16+ A fiery young woman ac...\n",
            "23    Bollywood MoviesU/A 16+ In the 1970s, an under...\n",
            "24    Movies Based on BooksA Five assassins board a ...\n",
            "25    DramasU/A 16+ This biopic follows the life of ...\n",
            "26    US MoviesU/A 13+ An FBI profiler pursuing the ...\n",
            "27    Bollywood MoviesU/A 16+ After dropping out of ...\n",
            "28    Movies Based on BooksA A hardened mercenary's ...\n",
            "29    DramasU/A 13+ A political leader’s death leads...\n",
            "30    DramasU/A 16+ To avenge his father's death, a ...\n",
            "31    ComediesU/A 16+ Waseem is young, carefree and ...\n",
            "32    DramasU/A 13+ Villagers in the kingdom of Mahi...\n",
            "33    Sci-Fi MoviesU/A 16+ Bill Cage is stuck in a t...\n",
            "34    Action & AdventureU/A 13+ When an explosion in...\n",
            "35    US MoviesU/A 16+ Batman, Lieutenant Gordon and...\n",
            "36    Sci-Fi MoviesU/A 13+ Drifter Clark Kent must k...\n",
            "37    Sci-Fi MoviesU/A 13+ Spider-Man squares off ag...\n",
            "38    Bollywood MoviesU/A 13+ With Asia under his co...\n",
            "39    Sci-Fi MoviesU/A 16+ Science, sabotage and pre...\n",
            "dtype: object\n"
          ]
        }
      ],
      "source": [
        "print(combined_features )"
      ]
    },
    {
      "cell_type": "markdown",
      "metadata": {
        "id": "myr66c9VELf0"
      },
      "source": [
        "Converting the text data into features vector"
      ]
    },
    {
      "cell_type": "code",
      "execution_count": 88,
      "metadata": {
        "id": "uBh3fyBlDIct"
      },
      "outputs": [],
      "source": [
        "vectorizer = TfidfVectorizer()\n",
        "\n",
        "feature_vector = vectorizer.fit_transform(combined_features )"
      ]
    },
    {
      "cell_type": "code",
      "execution_count": 89,
      "metadata": {
        "colab": {
          "base_uri": "https://localhost:8080/"
        },
        "id": "5P86oAWZDIap",
        "outputId": "948f4d9e-efc8-4dbf-9e96-e60b10e47e0a"
      },
      "outputs": [
        {
          "name": "stdout",
          "output_type": "stream",
          "text": [
            "  (0, 14)\t0.20597432975902552\n",
            "  (0, 6)\t0.11427126370652695\n",
            "  (0, 428)\t0.22907704984755142\n",
            "  (0, 61)\t0.22907704984755142\n",
            "  (0, 519)\t0.20597432975902552\n",
            "  (0, 363)\t0.22907704984755142\n",
            "  (0, 111)\t0.22907704984755142\n",
            "  (0, 546)\t0.22907704984755142\n",
            "  (0, 67)\t0.09787962294278575\n",
            "  (0, 185)\t0.22907704984755142\n",
            "  (0, 265)\t0.16647996890675842\n",
            "  (0, 575)\t0.20597432975902552\n",
            "  (0, 135)\t0.22907704984755142\n",
            "  (0, 520)\t0.07870800066315313\n",
            "  (0, 286)\t0.13737398379505286\n",
            "  (0, 558)\t0.22907704984755142\n",
            "  (0, 500)\t0.20597432975902552\n",
            "  (0, 371)\t0.10713967827724467\n",
            "  (0, 257)\t0.20597432975902552\n",
            "  (0, 410)\t0.22907704984755142\n",
            "  (0, 346)\t0.20597432975902552\n",
            "  (0, 521)\t0.3153934447353747\n",
            "  (0, 233)\t0.17686834464731996\n",
            "  (0, 532)\t0.06934628906882165\n",
            "  (0, 1)\t0.10388288796596543\n",
            "  :\t:\n",
            "  (39, 211)\t0.2255396429171208\n",
            "  (39, 214)\t0.2255396429171208\n",
            "  (39, 184)\t0.2255396429171208\n",
            "  (39, 141)\t0.2255396429171208\n",
            "  (39, 145)\t0.2255396429171208\n",
            "  (39, 192)\t0.2255396429171208\n",
            "  (39, 405)\t0.2255396429171208\n",
            "  (39, 447)\t0.2255396429171208\n",
            "  (39, 454)\t0.2255396429171208\n",
            "  (39, 36)\t0.20279367494412692\n",
            "  (39, 533)\t0.20279367494412692\n",
            "  (39, 387)\t0.20279367494412692\n",
            "  (39, 522)\t0.20279367494412692\n",
            "  (39, 458)\t0.20279367494412692\n",
            "  (39, 3)\t0.10548522777373831\n",
            "  (39, 376)\t0.12990590099293667\n",
            "  (39, 17)\t0.08385015668743753\n",
            "  (39, 84)\t0.17413714434355496\n",
            "  (39, 574)\t0.1125066872880095\n",
            "  (39, 67)\t0.1927363323569036\n",
            "  (39, 520)\t0.07749259201697288\n",
            "  (39, 521)\t0.15526157018207604\n",
            "  (39, 356)\t0.08614020769647221\n",
            "  (39, 229)\t0.12502469677902375\n",
            "  (39, 453)\t0.12502469677902375\n"
          ]
        }
      ],
      "source": [
        "print(feature_vector)"
      ]
    },
    {
      "cell_type": "markdown",
      "metadata": {
        "id": "tiTRyyGtICjT"
      },
      "source": [
        "### Cosine Similiarity "
      ]
    },
    {
      "cell_type": "code",
      "execution_count": 90,
      "metadata": {
        "id": "O9hCuhsiDIVk"
      },
      "outputs": [],
      "source": [
        "# similarity confidence value using cosine similiarity\n",
        "\n",
        "similarity = cosine_similarity(feature_vector)\n"
      ]
    },
    {
      "cell_type": "code",
      "execution_count": 91,
      "metadata": {
        "colab": {
          "base_uri": "https://localhost:8080/"
        },
        "id": "ghwaPHTCDIRs",
        "outputId": "eed5966e-e82f-4dd1-c14d-00523c52faba"
      },
      "outputs": [
        {
          "name": "stdout",
          "output_type": "stream",
          "text": [
            "[[1.         0.03125017 0.08033943 ... 0.09279189 0.09225071 0.11322192]\n",
            " [0.03125017 1.         0.02602955 ... 0.08094194 0.02987701 0.00747572]\n",
            " [0.08033943 0.02602955 1.         ... 0.0539164  0.0128249  0.0699072 ]\n",
            " ...\n",
            " [0.09279189 0.08094194 0.0539164  ... 1.         0.09497432 0.07669033]\n",
            " [0.09225071 0.02987701 0.0128249  ... 0.09497432 1.         0.02768691]\n",
            " [0.11322192 0.00747572 0.0699072  ... 0.07669033 0.02768691 1.        ]]\n"
          ]
        }
      ],
      "source": [
        "print(similarity)"
      ]
    },
    {
      "cell_type": "code",
      "execution_count": 92,
      "metadata": {
        "colab": {
          "base_uri": "https://localhost:8080/"
        },
        "id": "AhCg-foVC_Z6",
        "outputId": "4e2a09f9-3971-4f91-9b28-b04641e8d2a5"
      },
      "outputs": [
        {
          "name": "stdout",
          "output_type": "stream",
          "text": [
            "(40, 40)\n"
          ]
        }
      ],
      "source": [
        "print(similarity.shape)\n",
        "# compare with all the other movies present there"
      ]
    },
    {
      "cell_type": "code",
      "execution_count": 93,
      "metadata": {
        "colab": {
          "base_uri": "https://localhost:8080/"
        },
        "id": "suh55D8bJcfy",
        "outputId": "12c44d32-230e-454d-c5f2-45d88833f3d1"
      },
      "outputs": [
        {
          "name": "stdout",
          "output_type": "stream",
          "text": [
            "['time trap', 'spider-man: into the spider-verse', 'lucy', 'godzilla vs. kong', 'johnny english reborn', 'the ghost', '300', 'jumanji: welcome to the jungle', 'journey 2: the mysterious island', 'pacific rim', 'the mummy', 'raees', 'spider-man: no way home', 'sooryavanshi', 'chennai express', 'brothers', 'jurassic world', 'rrr', 'transformers: the last knight', 'jumanji: the next level', 'uncharted', 'rush hour', 'naam shabana', 'mission majnu', 'bullet train', 'major', 'red notice', 'lakshya', 'extraction', 'godfather', 'baahubali 2: the conclusion', 'thallumaala', 'baahubali: the beginning', 'edge of tomorrow', 'troll', 'the dark knight', 'man of steel', 'the amazing spider-man 2', 'don 2', 'jurassic park']\n"
          ]
        }
      ],
      "source": [
        "# creating a list with all the moviee names in dataset\n",
        "\n",
        "list_of_all_titles = dataset['name'].tolist()\n",
        "print(list_of_all_titles)"
      ]
    },
    {
      "cell_type": "markdown",
      "metadata": {
        "id": "bx6dJUH3RZGT"
      },
      "source": [
        "## Recommedation"
      ]
    },
    {
      "cell_type": "code",
      "execution_count": 94,
      "metadata": {
        "colab": {
          "base_uri": "https://localhost:8080/"
        },
        "id": "HgT_u7pAIfyK",
        "outputId": "fe9a136a-4dbe-459f-8c7d-c99a427d7745"
      },
      "outputs": [],
      "source": [
        "# getting the name as input for recommendation\n",
        "\n",
        "movie_name = input('Enter your favourite movie name : ')"
      ]
    },
    {
      "cell_type": "code",
      "execution_count": 95,
      "metadata": {
        "colab": {
          "base_uri": "https://localhost:8080/"
        },
        "id": "5GlIJnpJJZA5",
        "outputId": "e7e15f34-510c-4861-8f98-f7813d9b5d76"
      },
      "outputs": [
        {
          "name": "stdout",
          "output_type": "stream",
          "text": [
            "['don 2']\n"
          ]
        }
      ],
      "source": [
        "# finding the movie name given by the user\n",
        "\n",
        "find_close_match = difflib.get_close_matches(movie_name, list_of_all_titles)\n",
        "print(find_close_match)"
      ]
    },
    {
      "cell_type": "code",
      "execution_count": 96,
      "metadata": {
        "colab": {
          "base_uri": "https://localhost:8080/"
        },
        "id": "jM9zGJXUJxN4",
        "outputId": "4aee13e9-1d83-44a3-9401-60406564fb03"
      },
      "outputs": [
        {
          "name": "stdout",
          "output_type": "stream",
          "text": [
            "don 2\n"
          ]
        }
      ],
      "source": [
        "close_match = find_close_match[0]\n",
        "print(close_match)"
      ]
    },
    {
      "cell_type": "code",
      "execution_count": 97,
      "metadata": {
        "colab": {
          "base_uri": "https://localhost:8080/"
        },
        "id": "SoK5rq0MKOSM",
        "outputId": "22f6e6e9-53b5-4696-808f-20ce1470a358"
      },
      "outputs": [
        {
          "name": "stdout",
          "output_type": "stream",
          "text": [
            "70224999\n"
          ]
        }
      ],
      "source": [
        "# Index of movie with title and data\n",
        "\n",
        "index_of_movie = dataset[dataset.name == close_match]['id'].values[0]\n",
        "# we are finding the index of movie by comparing the title of each movie with closly matched string and returing its index \n",
        "print(index_of_movie)"
      ]
    },
    {
      "cell_type": "code",
      "execution_count": 98,
      "metadata": {
        "colab": {
          "base_uri": "https://localhost:8080/"
        },
        "id": "t3Hul74GKqv2",
        "outputId": "e62185ec-f839-4c34-a4f4-947bb44336b9"
      },
      "outputs": [
        {
          "name": "stdout",
          "output_type": "stream",
          "text": [
            "[(0, 0.03125017210483985), (1, 1.0), (2, 0.026029546958858903), (3, 0.0324815007339435), (4, 0.05685322563196542), (5, 0.04296671068344504), (6, 0.07055685187318822), (7, 0.021557843697904738), (8, 0.08508674865603816), (9, 0.007413792750118166), (10, 0.033672426405641505), (11, 0.06068565086446753), (12, 0.03756926228492297), (13, 0.018659894957695794), (14, 0.04092024072161702), (15, 0.04938519533836644), (16, 0.049801003099139436), (17, 0.024061078430805467), (18, 0.04712756904107665), (19, 0.009871042420299786), (20, 0.08980381690339587), (21, 0.038585931525419406), (22, 0.03918298603097857), (23, 0.035508510320878255), (24, 0.0), (25, 0.04190824238280394), (26, 0.07402241266918612), (27, 0.0876396277504515), (28, 0.013227664518598059), (29, 0.011936345971085666), (30, 0.025960138339206865), (31, 0.01050048040549998), (32, 0.037678084750555604), (33, 0.041037295875575794), (34, 0.056857385440446113), (35, 0.045377070097912565), (36, 0.04840396430904845), (37, 0.08094193742369458), (38, 0.02987701401375932), (39, 0.00747572259739065)]\n"
          ]
        }
      ],
      "source": [
        "# finding similariy score \n",
        "\n",
        "score = list(enumerate(similarity[1]))\n",
        "print(score)"
      ]
    },
    {
      "cell_type": "code",
      "execution_count": null,
      "metadata": {
        "colab": {
          "base_uri": "https://localhost:8080/"
        },
        "id": "h2Duvsz9LqKy",
        "outputId": "12f1014d-e504-4064-b777-210611280e67"
      },
      "outputs": [
        {
          "data": {
            "text/plain": [
              "40"
            ]
          },
          "execution_count": 47,
          "metadata": {},
          "output_type": "execute_result"
        }
      ],
      "source": [
        "len(score)"
      ]
    },
    {
      "cell_type": "code",
      "execution_count": 104,
      "metadata": {
        "colab": {
          "base_uri": "https://localhost:8080/"
        },
        "id": "-9vXNydvLqH-",
        "outputId": "72413e08-e7bf-493d-bc79-1496b760254a"
      },
      "outputs": [
        {
          "ename": "IndexError",
          "evalue": "tuple index out of range",
          "output_type": "error",
          "traceback": [
            "\u001b[1;31m---------------------------------------------------------------------------\u001b[0m",
            "\u001b[1;31mIndexError\u001b[0m                                Traceback (most recent call last)",
            "Cell \u001b[1;32mIn[104], line 3\u001b[0m\n\u001b[0;32m      1\u001b[0m \u001b[39m# finding movies having higher similarity score \u001b[39;00m\n\u001b[1;32m----> 3\u001b[0m sorted_list \u001b[39m=\u001b[39m \u001b[39msorted\u001b[39;49m(score, key \u001b[39m=\u001b[39;49m \u001b[39mlambda\u001b[39;49;00m x:x[\u001b[39m3\u001b[39;49m], reverse \u001b[39m=\u001b[39;49m \u001b[39mTrue\u001b[39;49;00m)\n\u001b[0;32m      4\u001b[0m \u001b[39m# sort based on non increasing order, key is based on first index of score in list element which is score in (index, score)\u001b[39;00m\n\u001b[0;32m      5\u001b[0m \u001b[39mprint\u001b[39m(sorted_list)\n",
            "Cell \u001b[1;32mIn[104], line 3\u001b[0m, in \u001b[0;36m<lambda>\u001b[1;34m(x)\u001b[0m\n\u001b[0;32m      1\u001b[0m \u001b[39m# finding movies having higher similarity score \u001b[39;00m\n\u001b[1;32m----> 3\u001b[0m sorted_list \u001b[39m=\u001b[39m \u001b[39msorted\u001b[39m(score, key \u001b[39m=\u001b[39m \u001b[39mlambda\u001b[39;00m x:x[\u001b[39m3\u001b[39;49m], reverse \u001b[39m=\u001b[39m \u001b[39mTrue\u001b[39;00m)\n\u001b[0;32m      4\u001b[0m \u001b[39m# sort based on non increasing order, key is based on first index of score in list element which is score in (index, score)\u001b[39;00m\n\u001b[0;32m      5\u001b[0m \u001b[39mprint\u001b[39m(sorted_list)\n",
            "\u001b[1;31mIndexError\u001b[0m: tuple index out of range"
          ]
        }
      ],
      "source": [
        "# finding movies having higher similarity score \n",
        "\n",
        "sorted_list = sorted(score, key = lambda x:x[1], reverse = True)\n",
        "# sort based on non increasing order, key is based on first index of score in list element which is score in (index, score)\n",
        "print(sorted_list)"
      ]
    },
    {
      "cell_type": "code",
      "execution_count": 101,
      "metadata": {
        "colab": {
          "base_uri": "https://localhost:8080/"
        },
        "id": "_MhejghFLqE3",
        "outputId": "6b6db298-5df9-4f6c-eb73-4f3723c6ee0a"
      },
      "outputs": [
        {
          "name": "stdout",
          "output_type": "stream",
          "text": [
            "(1, 1.0) (20, 0.08980381690339587) (27, 0.0876396277504515) (8, 0.08508674865603816) (37, 0.08094193742369458)\n"
          ]
        }
      ],
      "source": [
        "print(sorted_list[0], sorted_list[1], sorted_list[2], sorted_list[3], sorted_list[4])\n",
        "# top five score with index "
      ]
    },
    {
      "cell_type": "code",
      "execution_count": 102,
      "metadata": {
        "colab": {
          "base_uri": "https://localhost:8080/"
        },
        "id": "7SpKzAIfLqB9",
        "outputId": "8b9ce873-4625-4af7-c3f3-88f69a38507b"
      },
      "outputs": [
        {
          "name": "stdout",
          "output_type": "stream",
          "text": [
            "Movies Results : \n",
            "\n",
            "1 . spider-man: into the spider-verse\n",
            "2 . uncharted\n",
            "3 . lakshya\n",
            "4 . journey 2: the mysterious island\n",
            "5 . the amazing spider-man 2\n"
          ]
        }
      ],
      "source": [
        "# printing the name of simila rmovies based on the index\n",
        "\n",
        "print(\"Movies Results : \\n\")\n",
        "\n",
        "i = 1\n",
        "\n",
        "for movie in sorted_list:\n",
        "  index = movie[0]\n",
        "  title_of_movie = dataset[dataset.index == index]['name'].values[0]\n",
        "  if(i<=5):\n",
        "    print(i, '.', title_of_movie)\n",
        "    i += 1"
      ]
    },
    {
      "cell_type": "markdown",
      "metadata": {
        "id": "Rp5khK0sR824"
      },
      "source": [
        "## Recommendation function "
      ]
    },
    {
      "cell_type": "code",
      "execution_count": null,
      "metadata": {
        "id": "UZ3_zgIOLp_H"
      },
      "outputs": [],
      "source": [
        "def recommend(name):\n",
        "  find_close_match = difflib.get_close_matches(movie_name, list_of_all_titles)\n",
        "  \n",
        "  try:\n",
        "    close_match = find_close_match[0]\n",
        "  except IndexError:\n",
        "    close_match = 'null'\n",
        "    print(\"No result found with this title\")\n",
        "    return \n",
        "  index_of_movie = dataset[dataset.name == close_match]['name'].values[0]\n",
        "  score = list(enumerate(similarity[1]))\n",
        "  sorted_list = sorted(score, key = lambda x:x[1], reverse = True)\n",
        "\n",
        "\n",
        "  print(\"Movies Results : \\n\")\n",
        "\n",
        "  i = 1\n",
        "\n",
        "  for movie in sorted_list:\n",
        "    index = movie[0]\n",
        "    title_of_movie = dataset[dataset.index == index]['name'].values[0]\n",
        "    if(i<=5):\n",
        "      print(i, '. ', title_of_movie)\n",
        "      i += 1"
      ]
    },
    {
      "cell_type": "code",
      "execution_count": null,
      "metadata": {
        "colab": {
          "base_uri": "https://localhost:8080/"
        },
        "id": "c13M2v3wLp8D",
        "outputId": "ac6df93a-a15d-42d4-a3d7-7dc131a0df3e"
      },
      "outputs": [
        {
          "name": "stdout",
          "output_type": "stream",
          "text": [
            "Movies Results : \n",
            "\n",
            "1 .  spider-man: into the spider-verse\n",
            "2 .  uncharted\n",
            "3 .  lakshya\n",
            "4 .  journey 2: the mysterious island\n",
            "5 .  the amazing spider-man 2\n"
          ]
        }
      ],
      "source": [
        "movie_name = input('Enter your favourite movie name : ')\n",
        "\n",
        "recommend(movie_name)"
      ]
    },
    {
      "cell_type": "code",
      "execution_count": null,
      "metadata": {
        "id": "WebYfLZsSsEb"
      },
      "outputs": [],
      "source": []
    }
  ],
  "metadata": {
    "colab": {
      "authorship_tag": "ABX9TyPRLfGy5TomTTFDoCxo0Nu2",
      "include_colab_link": true,
      "provenance": []
    },
    "kernelspec": {
      "display_name": "Python 3",
      "name": "python3"
    },
    "language_info": {
      "codemirror_mode": {
        "name": "ipython",
        "version": 3
      },
      "file_extension": ".py",
      "mimetype": "text/x-python",
      "name": "python",
      "nbconvert_exporter": "python",
      "pygments_lexer": "ipython3",
      "version": "3.11.2"
    }
  },
  "nbformat": 4,
  "nbformat_minor": 0
}
